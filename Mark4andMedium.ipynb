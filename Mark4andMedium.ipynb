{
  "nbformat": 4,
  "nbformat_minor": 0,
  "metadata": {
    "colab": {
      "name": "Untitled0.ipynb",
      "provenance": [],
      "authorship_tag": "ABX9TyPFB/qLC5bzkDnBt5cL8VnL",
      "include_colab_link": true
    },
    "kernelspec": {
      "name": "python3",
      "display_name": "Python 3"
    }
  },
  "cells": [
    {
      "cell_type": "markdown",
      "metadata": {
        "id": "view-in-github",
        "colab_type": "text"
      },
      "source": [
        "<a href=\"https://colab.research.google.com/github/pedobearbn21/CodiumInterview-/blob/main/Mark4andMedium.ipynb\" target=\"_parent\"><img src=\"https://colab.research.google.com/assets/colab-badge.svg\" alt=\"Open In Colab\"/></a>"
      ]
    },
    {
      "cell_type": "markdown",
      "metadata": {
        "id": "RsHEUC1c12sx"
      },
      "source": [
        "## 4 (Python specific) In Python, what is the difference between else and finally in exception handling?"
      ]
    },
    {
      "cell_type": "markdown",
      "metadata": {
        "id": "qRXPZGbX15yx"
      },
      "source": [
        "**In Error Handling** \r\n",
        "*   Program will run else  when Try didn't has a error or exception\r\n",
        "*   Program will run finally when Process run  \r\n",
        "    try->except->else->finally  so finally will always run in the last.\r\n",
        "\r\n",
        "\r\n",
        "   "
      ]
    },
    {
      "cell_type": "markdown",
      "metadata": {
        "id": "l1NBL51I2fs1"
      },
      "source": [
        "## Medium"
      ]
    },
    {
      "cell_type": "code",
      "metadata": {
        "id": "tvkTtrp32jMn"
      },
      "source": [
        "def is_prime(num):\r\n",
        "    for j in range(2,(num//2)+1):\r\n",
        "        if(num%j==0):\r\n",
        "            return False\r\n",
        "    return True"
      ],
      "execution_count": 1,
      "outputs": []
    },
    {
      "cell_type": "code",
      "metadata": {
        "colab": {
          "base_uri": "https://localhost:8080/"
        },
        "id": "JBzVJLVO2k3S",
        "outputId": "6c570387-3503-4ed3-c232-8a884431ff1d"
      },
      "source": [
        "num_list_prime = int(input('Enter Num for Gen list prime number ='))\r\n",
        "list_numbers = [ i for i in range(2,num_list_prime+1) if is_prime(i) ]\r\n",
        "print(f' {num_list_prime} => {list_numbers}')"
      ],
      "execution_count": 3,
      "outputs": [
        {
          "output_type": "stream",
          "text": [
            "Enter Num for Gen list prime number =20\n",
            " 20 => [2, 3, 5, 7, 11, 13, 17, 19]\n"
          ],
          "name": "stdout"
        }
      ]
    }
  ]
}