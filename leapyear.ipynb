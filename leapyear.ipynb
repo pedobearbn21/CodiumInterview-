{
  "nbformat": 4,
  "nbformat_minor": 0,
  "metadata": {
    "colab": {
      "name": "leapyear.ipynb",
      "provenance": [],
      "authorship_tag": "ABX9TyPNXvKKr+UxwZh0Qlsw4ir7",
      "include_colab_link": true
    },
    "kernelspec": {
      "name": "python3",
      "display_name": "Python 3"
    }
  },
  "cells": [
    {
      "cell_type": "markdown",
      "metadata": {
        "id": "view-in-github",
        "colab_type": "text"
      },
      "source": [
        "<a href=\"https://colab.research.google.com/github/pedobearbn21/CodiumInterview-/blob/main/leapyear.ipynb\" target=\"_parent\"><img src=\"https://colab.research.google.com/assets/colab-badge.svg\" alt=\"Open In Colab\"/></a>"
      ]
    },
    {
      "cell_type": "code",
      "metadata": {
        "id": "k1USrqi607Ie"
      },
      "source": [
        "def MultiplesOfNumber(number:int,dividednumber:int)->bool:\r\n",
        "    if (number % dividednumber==0):\r\n",
        "        return True\r\n",
        "    return False"
      ],
      "execution_count": 1,
      "outputs": []
    },
    {
      "cell_type": "code",
      "metadata": {
        "id": "0LDWbJgJ1B_W"
      },
      "source": [
        "def isLeapYear(year:int):\r\n",
        "    is_leap_year_400 = MultiplesOfNumber(year,400)\r\n",
        "    is_leap_year_100 = MultiplesOfNumber(year,100)\r\n",
        "    is_leap_year_4 = MultiplesOfNumber(year,4)\r\n",
        "    if( is_leap_year_400 and is_leap_year_100 ):\r\n",
        "        print (f'{year} -> True')\r\n",
        "    elif( (not is_leap_year_400 and not is_leap_year_100) and is_leap_year_4 ):\r\n",
        "        print(f'{year} -> True')\r\n",
        "    else:\r\n",
        "        print(f'{year} -> False')"
      ],
      "execution_count": 3,
      "outputs": []
    },
    {
      "cell_type": "markdown",
      "metadata": {
        "id": "ayaGppi71XKe"
      },
      "source": [
        "Case Example\r\n",
        "    # 1600 -> true\r\n",
        "    # 2000 -> true\r\n",
        "    # 1500 -> false\r\n",
        "    # 2004 -> true\r\n",
        "    # 2008 -> true\r\n",
        "    # 2010 -> false"
      ]
    },
    {
      "cell_type": "code",
      "metadata": {
        "colab": {
          "base_uri": "https://localhost:8080/"
        },
        "id": "pfViuPoy1RdM",
        "outputId": "39399761-bc37-4437-8458-f22918d5f809"
      },
      "source": [
        "isLeapYear(1600 )\r\n",
        "isLeapYear(2000 )\r\n",
        "isLeapYear(1500 )\r\n",
        "isLeapYear(2004 )\r\n",
        "isLeapYear(2008 )\r\n",
        "isLeapYear(2010 )"
      ],
      "execution_count": 4,
      "outputs": [
        {
          "output_type": "stream",
          "text": [
            "1600 -> True\n",
            "2000 -> True\n",
            "1500 -> False\n",
            "2004 -> True\n",
            "2008 -> True\n",
            "2010 -> False\n"
          ],
          "name": "stdout"
        }
      ]
    }
  ]
}